{
 "cells": [
  {
   "cell_type": "markdown",
   "metadata": {},
   "source": [
    "# 0 SETUP"
   ]
  },
  {
   "cell_type": "code",
   "execution_count": 1,
   "metadata": {},
   "outputs": [],
   "source": [
    "from webdriver_manager.chrome import ChromeDriverManager\n",
    "from selenium import webdriver\n",
    "from selenium.webdriver.chrome.service import Service as ChromeService\n"
   ]
  },
  {
   "cell_type": "code",
   "execution_count": 2,
   "metadata": {},
   "outputs": [],
   "source": [
    "service = ChromeService(executable_path=ChromeDriverManager().install())\n",
    "driver = webdriver.Chrome(service=service)"
   ]
  },
  {
   "cell_type": "markdown",
   "metadata": {},
   "source": [
    "# 1 FUNCTIONS"
   ]
  },
  {
   "cell_type": "code",
   "execution_count": 3,
   "metadata": {},
   "outputs": [],
   "source": [
    "def startup():\n",
    "    driver.get(\"https://arithmetic.zetamac.com/game?key=a7220a92\")\n",
    "    driver.implicitly_wait(5)\n",
    "    text_box = driver.find_element_by_class_name(name=\"answer\")\n",
    "    return text_box"
   ]
  },
  {
   "cell_type": "code",
   "execution_count": 4,
   "metadata": {},
   "outputs": [],
   "source": [
    "def find_problem():\n",
    "    problem = driver.find_element_by_class_name(name=\"problem\")\n",
    "    split_problem = problem.text.split()\n",
    "    element_1 = int(split_problem[0])\n",
    "    operator = str(split_problem[1])\n",
    "    element_2 = int((split_problem[2]))\n",
    "    return element_1, operator, element_2"
   ]
  },
  {
   "cell_type": "code",
   "execution_count": 5,
   "metadata": {},
   "outputs": [],
   "source": [
    "def answer_problem(element_1, operator, element_2, text_box):\n",
    "    if operator == '+':\n",
    "        answer =  element_1+element_2\n",
    "    elif operator == '–':\n",
    "        answer =  element_1-element_2\n",
    "    elif operator == '×':\n",
    "        answer =  element_1*element_2\n",
    "    elif operator == '÷':\n",
    "        answer =  int(element_1/element_2)\n",
    "    else:\n",
    "        print(\"Error with operator.\")\n",
    "    text_box.send_keys(str(answer))"
   ]
  },
  {
   "cell_type": "code",
   "execution_count": 6,
   "metadata": {},
   "outputs": [],
   "source": [
    "def run(score,text_box):\n",
    "    for i in range (score):\n",
    "        element_1, operator, element_2 =  find_problem()\n",
    "        answer_problem(element_1, operator, element_2, text_box)"
   ]
  },
  {
   "cell_type": "markdown",
   "metadata": {},
   "source": [
    "# 2 RUN"
   ]
  },
  {
   "cell_type": "code",
   "execution_count": 7,
   "metadata": {},
   "outputs": [
    {
     "name": "stderr",
     "output_type": "stream",
     "text": [
      "/var/folders/xc/628m8wh12fj3xy5vpf50h93c0000gn/T/ipykernel_10148/1998444237.py:6: DeprecationWarning: find_element_by_* commands are deprecated. Please use find_element() instead\n",
      "  text_box = driver.find_element_by_class_name(name=\"answer\")\n",
      "/var/folders/xc/628m8wh12fj3xy5vpf50h93c0000gn/T/ipykernel_10148/2498365008.py:2: DeprecationWarning: find_element_by_* commands are deprecated. Please use find_element() instead\n",
      "  problem = driver.find_element_by_class_name(name=\"problem\")\n"
     ]
    }
   ],
   "source": [
    "#INITIALIZE\n",
    "text_box = startup()\n",
    "\n",
    "### RUN THE PROGRAM\n",
    "\n",
    "score = 169\n",
    "run(score,text_box)"
   ]
  }
 ],
 "metadata": {
  "kernelspec": {
   "display_name": "Python 3.10.0 64-bit",
   "language": "python",
   "name": "python3"
  },
  "language_info": {
   "codemirror_mode": {
    "name": "ipython",
    "version": 3
   },
   "file_extension": ".py",
   "mimetype": "text/x-python",
   "name": "python",
   "nbconvert_exporter": "python",
   "pygments_lexer": "ipython3",
   "version": "3.10.0"
  },
  "orig_nbformat": 4,
  "vscode": {
   "interpreter": {
    "hash": "aee8b7b246df8f9039afb4144a1f6fd8d2ca17a180786b69acc140d282b71a49"
   }
  }
 },
 "nbformat": 4,
 "nbformat_minor": 2
}
